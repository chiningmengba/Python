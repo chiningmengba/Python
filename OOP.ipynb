{
 "cells": [
  {
   "cell_type": "code",
   "execution_count": 1,
   "metadata": {},
   "outputs": [
    {
     "name": "stdout",
     "output_type": "stream",
     "text": [
      "dana\n",
      "18\n",
      "********************\n",
      "55169952\n",
      "1683479968\n",
      "********************\n",
      "dana\n",
      "18\n",
      "55169952\n",
      "1683479968\n"
     ]
    }
   ],
   "source": [
    "class A():\n",
    "    name = 'dana'\n",
    "    age = 18\n",
    "    \n",
    "    # 注意say的写法，参数由一个self\n",
    "    def say(self):\n",
    "        self.name = 'aaa'\n",
    "        self.age = 200\n",
    "\n",
    "# 此案例说明\n",
    "# 类实例的属性和其对象的实例的属性在不对对象的实例属性赋值的前提下\n",
    "# 指向同一个变量\n",
    "\n",
    "#此时，Student称为类的实例\n",
    "print(A.name)\n",
    "print(A.age)\n",
    "\n",
    "print('*' * 20)\n",
    "\n",
    "#id可以鉴别一个变量是否和另一个变量是同一个变量\n",
    "print(id(A.name))\n",
    "print(id(A.age))\n",
    "\n",
    "print('*' * 20)\n",
    "\n",
    "a = A()\n",
    "print(a.name)\n",
    "print(a.age)\n",
    "print(id(a.name))\n",
    "print(id(a.age))\n",
    "    "
   ]
  },
  {
   "cell_type": "code",
   "execution_count": 3,
   "metadata": {},
   "outputs": [
    {
     "name": "stdout",
     "output_type": "stream",
     "text": [
      "dana\n",
      "18\n",
      "********************\n",
      "55169952\n",
      "1683479968\n",
      "********************\n",
      "{'__module__': '__main__', 'name': 'dana', 'age': 18, 'say': <function Student.say at 0x03493DF8>, '__dict__': <attribute '__dict__' of 'Student' objects>, '__weakref__': <attribute '__weakref__' of 'Student' objects>, '__doc__': None}\n",
      "{}\n",
      "{'name': 'yaona', 'age': 16}\n",
      "yaona\n",
      "16\n",
      "55172608\n",
      "1683479936\n"
     ]
    }
   ],
   "source": [
    "#此时，Student称为类的实例\n",
    "print(A.name)\n",
    "print(A.age)\n",
    "\n",
    "print('*' * 20)\n",
    "\n",
    "#id可以鉴别一个变量是否和另一个变量是同一个变量\n",
    "print(id(A.name))\n",
    "print(id(A.age))\n",
    "\n",
    "print('*' * 20)\n",
    "\n",
    "a = A()\n",
    "# 查看a内所有的属性\n",
    "print(A.__dict__)\n",
    "print(a.__dict__)\n",
    "\n",
    "a.name = 'yaona'\n",
    "a.age = 16\n",
    "print(a.__dict__)\n",
    "\n",
    "print(a.name)\n",
    "print(a.age)\n",
    "print(id(a.name))\n",
    "print(id(a.age))\n"
   ]
  },
  {
   "cell_type": "markdown",
   "metadata": {},
   "source": [
    "# 关于self\n",
    "- self在对象的方法中表示当前对象本身，如果通过对象调用一个方法，那么该对象会自动传入到当前方法的第一个参数中\n",
    "- self并不是关键字，只是一个用于接受对象的普通参数，理论上可以用任何一个普通变量名代替\n",
    "- 方法中有self形参的方法成为非绑定类的方法，可以通过对象访问，没有self的是绑定类方法\n",
    "  只能通过类访问\n",
    "- 使用类访问绑定类的方法时，如果方法中需要访问当前类成员，可以通过__class__成员名来访问"
   ]
  },
  {
   "cell_type": "code",
   "execution_count": null,
   "metadata": {},
   "outputs": [],
   "source": []
  },
  {
   "cell_type": "code",
   "execution_count": 6,
   "metadata": {},
   "outputs": [
    {
     "name": "stdout",
     "output_type": "stream",
     "text": [
      "My name is aaa\n",
      "My age is 200\n"
     ]
    }
   ],
   "source": [
    "class Student():\n",
    "    name = 'dana'\n",
    "    age = 18\n",
    "    \n",
    "    # 注意say的写法，参数由一个self\n",
    "    def say(self):\n",
    "        self.name = 'aaa'\n",
    "        self.age = 200\n",
    "        print('My name is %s' % self.name)\n",
    "        print('My age is %s' % self.age)\n",
    "yueyue = Student()\n",
    "yueyue.say()"
   ]
  },
  {
   "cell_type": "code",
   "execution_count": 12,
   "metadata": {},
   "outputs": [
    {
     "name": "stdout",
     "output_type": "stream",
     "text": [
      "My name is yaona\n",
      "My age is 17\n",
      "dana\n",
      "19\n",
      "Hello nice to see you again\n"
     ]
    }
   ],
   "source": [
    "class Teacher():\n",
    "    name = 'dana'\n",
    "    age = 19\n",
    "    \n",
    "    def say(self):\n",
    "        self.name = 'yaona'\n",
    "        self.age = 17\n",
    "        print('My name is %s' % self.name)\n",
    "        print('My age is %s' % self.age)\n",
    "    def sayAgain():\n",
    "        print(__class__.name)\n",
    "        print(__class__.age)\n",
    "        print('Hello nice to see you again')\n",
    "t = Teacher()\n",
    "t.say()\n",
    "# 调用绑定类函数使用类名\n",
    "Teacher.sayAgain()"
   ]
  },
  {
   "cell_type": "code",
   "execution_count": 19,
   "metadata": {},
   "outputs": [
    {
     "name": "stdout",
     "output_type": "stream",
     "text": [
      "aaa\n",
      "200\n",
      "aaa\n",
      "200\n",
      "laowang\n",
      "18\n",
      "bbb\n",
      "90\n"
     ]
    }
   ],
   "source": [
    "# 关于self的案例\n",
    "\n",
    "class A():\n",
    "    name = 'laowang'\n",
    "    age = 18\n",
    "    \n",
    "    def __init__(self):\n",
    "        self.name = 'aaa'\n",
    "        self.age = 200\n",
    "    def say(self):\n",
    "        print(self.name)\n",
    "        print(self.age)\n",
    "class B():\n",
    "    name = 'bbb'\n",
    "    age = 90\n",
    "    \n",
    "a = A()\n",
    "# 此时，系统会默认把a作为第一个参数传入函数\n",
    "a.say()\n",
    "\n",
    "# 此时，self被a替换\n",
    "A.say(a)\n",
    "# 同样可以把A作为参数传入\n",
    "A.say(A)\n",
    "\n",
    "# 此时，传入的是类实例B，因为B具有name和age属性，所以不会报错\n",
    "A.say(B)\n",
    "\n",
    "# 以上代码，利用了鸭子模型"
   ]
  },
  {
   "cell_type": "markdown",
   "metadata": {},
   "source": [
    "# 面对对象的三大特性\n",
    "- 封装\n",
    "  封装就是对对象的成员进行访问限制\n",
    "  封装的三个级别：\n",
    "      - 公开的，public\n",
    "      - 受保护的， protected\n",
    "      - 私有的，private\n",
    "      - public，protected，private不是关键字\n",
    "  判别对象的位置\n",
    "      - 对象内部\n",
    "      - 对象外部\n",
    "      - 子类中\n",
    "  私有\n",
    "      - 私有成员是最高级级别的封装，只能在当前类或对象中访问\n",
    "      - 在成员前面添加两个下划线即可\n",
    "      \n",
    "             class Person():\n",
    "                 # name是共有成员\n",
    "                 name = ‘xiaowang’\n",
    "                 #__age就是私有成员\n",
    "                 __age = 18\n",
    "      - Python的私有不是真私有，是一种成为name mangling的改名策略\n",
    "        可以使用对象._classname_attributename访问\n",
    "- 继承\n",
    "- 多态"
   ]
  },
  {
   "cell_type": "code",
   "execution_count": 29,
   "metadata": {},
   "outputs": [
    {
     "name": "stdout",
     "output_type": "stream",
     "text": [
      "laowang\n",
      "19\n"
     ]
    }
   ],
   "source": [
    "class Person():\n",
    "    # name 是共有成员\n",
    "    name = 'laowang'\n",
    "    # __age是私有成员\n",
    "    __age = 18\n",
    "\n",
    "p = Person()\n",
    "print(p.name)\n",
    "\n",
    "p._Person__age = 19\n",
    "print(p._Person__age)"
   ]
  },
  {
   "cell_type": "code",
   "execution_count": 30,
   "metadata": {},
   "outputs": [
    {
     "name": "stdout",
     "output_type": "stream",
     "text": [
      "{'__module__': '__main__', 'name': 'laowang', '_Person__age': 18, '__dict__': <attribute '__dict__' of 'Person' objects>, '__weakref__': <attribute '__weakref__' of 'Person' objects>, '__doc__': None}\n",
      "19\n"
     ]
    }
   ],
   "source": [
    "# name mangling技术\n",
    "print(Person.__dict__)\n",
    "\n",
    "p._Person__age = 19\n",
    "print(p._Person__age)"
   ]
  }
 ],
 "metadata": {
  "kernelspec": {
   "display_name": "Python 3",
   "language": "python",
   "name": "python3"
  },
  "language_info": {
   "codemirror_mode": {
    "name": "ipython",
    "version": 3
   },
   "file_extension": ".py",
   "mimetype": "text/x-python",
   "name": "python",
   "nbconvert_exporter": "python",
   "pygments_lexer": "ipython3",
   "version": "3.7.1"
  }
 },
 "nbformat": 4,
 "nbformat_minor": 2
}
