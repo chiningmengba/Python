{
 "cells": [
  {
   "cell_type": "code",
   "execution_count": 1,
   "metadata": {},
   "outputs": [
    {
     "name": "stdout",
     "output_type": "stream",
     "text": [
      "dana\n",
      "18\n",
      "********************\n",
      "55169952\n",
      "1683479968\n",
      "********************\n",
      "dana\n",
      "18\n",
      "55169952\n",
      "1683479968\n"
     ]
    }
   ],
   "source": [
    "class A():\n",
    "    name = 'dana'\n",
    "    age = 18\n",
    "    \n",
    "    # 注意say的写法，参数由一个self\n",
    "    def say(self):\n",
    "        self.name = 'aaa'\n",
    "        self.age = 200\n",
    "\n",
    "# 此案例说明\n",
    "# 类实例的属性和其对象的实例的属性在不对对象的实例属性赋值的前提下\n",
    "# 指向同一个变量\n",
    "\n",
    "#此时，Student称为类的实例\n",
    "print(A.name)\n",
    "print(A.age)\n",
    "\n",
    "print('*' * 20)\n",
    "\n",
    "#id可以鉴别一个变量是否和另一个变量是同一个变量\n",
    "print(id(A.name))\n",
    "print(id(A.age))\n",
    "\n",
    "print('*' * 20)\n",
    "\n",
    "a = A()\n",
    "print(a.name)\n",
    "print(a.age)\n",
    "print(id(a.name))\n",
    "print(id(a.age))\n",
    "    "
   ]
  },
  {
   "cell_type": "code",
   "execution_count": 3,
   "metadata": {},
   "outputs": [
    {
     "name": "stdout",
     "output_type": "stream",
     "text": [
      "dana\n",
      "18\n",
      "********************\n",
      "55169952\n",
      "1683479968\n",
      "********************\n",
      "{'__module__': '__main__', 'name': 'dana', 'age': 18, 'say': <function Student.say at 0x03493DF8>, '__dict__': <attribute '__dict__' of 'Student' objects>, '__weakref__': <attribute '__weakref__' of 'Student' objects>, '__doc__': None}\n",
      "{}\n",
      "{'name': 'yaona', 'age': 16}\n",
      "yaona\n",
      "16\n",
      "55172608\n",
      "1683479936\n"
     ]
    }
   ],
   "source": [
    "#此时，Student称为类的实例\n",
    "print(A.name)\n",
    "print(A.age)\n",
    "\n",
    "print('*' * 20)\n",
    "\n",
    "#id可以鉴别一个变量是否和另一个变量是同一个变量\n",
    "print(id(A.name))\n",
    "print(id(A.age))\n",
    "\n",
    "print('*' * 20)\n",
    "\n",
    "a = A()\n",
    "# 查看a内所有的属性\n",
    "print(A.__dict__)\n",
    "print(a.__dict__)\n",
    "\n",
    "a.name = 'yaona'\n",
    "a.age = 16\n",
    "print(a.__dict__)\n",
    "\n",
    "print(a.name)\n",
    "print(a.age)\n",
    "print(id(a.name))\n",
    "print(id(a.age))\n"
   ]
  },
  {
   "cell_type": "markdown",
   "metadata": {},
   "source": [
    "# 关于self\n",
    "- self在对象的方法中表示当前对象本身，如果通过对象调用一个方法，那么该对象会自动传入到当前方法的第一个参数中\n",
    "- self并不是关键字，只是一个用于接受对象的普通参数，理论上可以用任何一个普通变量名代替\n",
    "- 方法中有self形参的方法成为非绑定类的方法，可以通过对象访问，没有self的是绑定类方法\n",
    "  只能通过类访问\n",
    "- 使用类访问绑定类的方法时，如果方法中需要访问当前类成员，可以通过__class__成员名来访问"
   ]
  },
  {
   "cell_type": "code",
   "execution_count": null,
   "metadata": {},
   "outputs": [],
   "source": []
  },
  {
   "cell_type": "code",
   "execution_count": 6,
   "metadata": {},
   "outputs": [
    {
     "name": "stdout",
     "output_type": "stream",
     "text": [
      "My name is aaa\n",
      "My age is 200\n"
     ]
    }
   ],
   "source": [
    "class Student():\n",
    "    name = 'dana'\n",
    "    age = 18\n",
    "    \n",
    "    # 注意say的写法，参数由一个self\n",
    "    def say(self):\n",
    "        self.name = 'aaa'\n",
    "        self.age = 200\n",
    "        print('My name is %s' % self.name)\n",
    "        print('My age is %s' % self.age)\n",
    "yueyue = Student()\n",
    "yueyue.say()"
   ]
  },
  {
   "cell_type": "code",
   "execution_count": 12,
   "metadata": {},
   "outputs": [
    {
     "name": "stdout",
     "output_type": "stream",
     "text": [
      "My name is yaona\n",
      "My age is 17\n",
      "dana\n",
      "19\n",
      "Hello nice to see you again\n"
     ]
    }
   ],
   "source": [
    "class Teacher():\n",
    "    name = 'dana'\n",
    "    age = 19\n",
    "    \n",
    "    def say(self):\n",
    "        self.name = 'yaona'\n",
    "        self.age = 17\n",
    "        print('My name is %s' % self.name)\n",
    "        print('My age is %s' % self.age)\n",
    "    def sayAgain():\n",
    "        print(__class__.name)\n",
    "        print(__class__.age)\n",
    "        print('Hello nice to see you again')\n",
    "t = Teacher()\n",
    "t.say()\n",
    "# 调用绑定类函数使用类名\n",
    "Teacher.sayAgain()"
   ]
  },
  {
   "cell_type": "code",
   "execution_count": 19,
   "metadata": {},
   "outputs": [
    {
     "name": "stdout",
     "output_type": "stream",
     "text": [
      "aaa\n",
      "200\n",
      "aaa\n",
      "200\n",
      "laowang\n",
      "18\n",
      "bbb\n",
      "90\n"
     ]
    }
   ],
   "source": [
    "# 关于self的案例\n",
    "\n",
    "class A():\n",
    "    name = 'laowang'\n",
    "    age = 18\n",
    "    \n",
    "    def __init__(self):\n",
    "        self.name = 'aaa'\n",
    "        self.age = 200\n",
    "    def say(self):\n",
    "        print(self.name)\n",
    "        print(self.age)\n",
    "class B():\n",
    "    name = 'bbb'\n",
    "    age = 90\n",
    "    \n",
    "a = A()\n",
    "# 此时，系统会默认把a作为第一个参数传入函数\n",
    "a.say()\n",
    "\n",
    "# 此时，self被a替换\n",
    "A.say(a)\n",
    "# 同样可以把A作为参数传入\n",
    "A.say(A)\n",
    "\n",
    "# 此时，传入的是类实例B，因为B具有name和age属性，所以不会报错\n",
    "A.say(B)\n",
    "\n",
    "# 以上代码，利用了鸭子模型"
   ]
  },
  {
   "cell_type": "markdown",
   "metadata": {},
   "source": [
    "# 面对对象的三大特性\n",
    "- 封装\n",
    "  封装就是对对象的成员进行访问限制\n",
    "  封装的三个级别：\n",
    "      - 公开的，public\n",
    "      - 受保护的， protected\n",
    "      - 私有的，private\n",
    "      - public，protected，private不是关键字\n",
    "  判别对象的位置\n",
    "      - 对象内部\n",
    "      - 对象外部\n",
    "      - 子类中\n",
    "  私有\n",
    "      - 私有成员是最高级级别的封装，只能在当前类或对象中访问\n",
    "      - 在成员前面添加两个下划线即可\n",
    "      \n",
    "             class Person():\n",
    "                 # name是共有成员\n",
    "                 name = ‘xiaowang’\n",
    "                 #__age就是私有成员\n",
    "                 __age = 18\n",
    "      - Python的私有不是真私有，是一种成为name mangling的改名策略\n",
    "        可以使用对象._classname_attributename访问\n",
    "   受保护的封装 protected\n",
    "      - 受保护的封装是将对象成员进行一次级别的封装，然后在类中或者子类中都可以\n",
    "          进行访问，但是在外部不可以\n",
    "      - 封装方法：在成员名称前添加一个下划线即可\n",
    "   公开的，公共的 public\n",
    "      - 公共的封装实际对成员没有任何操作，任何地方都可以访问                                                                                                                                             \n",
    "- 继承\n",
    "  继承就是一个类可以获得另一个类中的成员属性和成员方法\n",
    "  作用：减少代码，增加代码的复用功能，同时可以设置类与类之间的关系\n",
    "  继承与被继承的概念：\n",
    "      - 被继承的类叫父类，也叫基类，也叫超类\n",
    "      - 用于继承的类，叫子类，也叫派生类\n",
    "      - 继承与被继承一定存在一个 is-a关系\n",
    "  继承的特征\n",
    "      - 所以的类都继承自object类，即所以的类都是object类的子类\n",
    "      - 子类一但继承父类，则可以使用父类中除私有成员外的所以内容\n",
    "      - 子类继承父类后并没有将父类成员完全赋值到子类中，而是通过引用关系访问调用\n",
    "      - 子类中可以定义独有的成员属性方法\n",
    "      - 子类中定义的成员和父类成员如果相同，则优先使用子类成员\n",
    "      - 子类如果想扩充父类的方法，可以再定义新方法的同时访问父类成员来进行代码重用，\n",
    "          可以使用 父类名.父类成员 的格式来调用父类成员，也可以使用super().父类成员的\n",
    "          格式来调用\n",
    "  继承变量函数的查找顺序问题\n",
    "      - 优先查找自己的变量\n",
    "      - 没有则查找父类\n",
    "      - 构造函数如果本类中没有定义，则自动查找调用父类构造函数\n",
    "      - 如果本类有定义，则不在继续往上查找\n",
    "  构造函数\n",
    "      - 是一类特殊的函数，在类进行实例化之前进行调用\n",
    "      - 如果定义了构造函数，则实例化使用构造函数，不查找父类构造函数\n",
    "      - 如果没定义，则自动查找父类的构造函数\n",
    "      - 如果子类没定义，父类的构造函数带参数，则构造对象应该按父类参数构造\n",
    "  super\n",
    "      - super不是关键字，而是一个类\n",
    "      - super的作用是获取MRO（MethodResolustionOrder）列表中的第一个类\n",
    "      - super于父类直接没任何实质性关系，但通过super可以调用父类\n",
    "      - super使用两个方法，参见构造函数中调用父类的构造函数\n",
    "- 多态"
   ]
  },
  {
   "cell_type": "code",
   "execution_count": 5,
   "metadata": {},
   "outputs": [
    {
     "name": "stdout",
     "output_type": "stream",
     "text": [
      "laowang\n",
      "19\n"
     ]
    }
   ],
   "source": [
    "class Person():\n",
    "    # name 是共有成员\n",
    "    name = 'laowang'\n",
    "    # __age是私有成员\n",
    "    __age = 18\n",
    "\n",
    "p = Person()\n",
    "print(p.name)\n",
    "\n",
    "p._Person__age = 19\n",
    "print(p._Person__age)"
   ]
  },
  {
   "cell_type": "code",
   "execution_count": 6,
   "metadata": {},
   "outputs": [
    {
     "name": "stdout",
     "output_type": "stream",
     "text": [
      "{'__module__': '__main__', 'name': 'laowang', '_Person__age': 18, '__dict__': <attribute '__dict__' of 'Person' objects>, '__weakref__': <attribute '__weakref__' of 'Person' objects>, '__doc__': None}\n",
      "19\n"
     ]
    }
   ],
   "source": [
    "# name mangling技术\n",
    "print(Person.__dict__)\n",
    "\n",
    "p._Person__age = 19\n",
    "print(p._Person__age)"
   ]
  },
  {
   "cell_type": "code",
   "execution_count": 15,
   "metadata": {},
   "outputs": [
    {
     "name": "stdout",
     "output_type": "stream",
     "text": [
      "NoName\n",
      "sec\n",
      "sleep.........\n",
      "9527\n",
      "attention\n"
     ]
    }
   ],
   "source": [
    "#继承语法\n",
    "#再python中，任何类都有一个公共的父类object\n",
    "class Person():\n",
    "    name = 'NoName'\n",
    "    age = 18\n",
    "    __score = 0 #考试成绩是秘密 私有的只能自己用\n",
    "    _petname = 'sec' #小名，是保护的，子类可以用，但不能共有\n",
    "    \n",
    "    def sleep(self):\n",
    "        print('sleep.........')\n",
    "\n",
    "#父类写在括号里\n",
    "class Teacher(Person):\n",
    "    teacher_id = '9527'\n",
    "    \n",
    "    def make_test(self):\n",
    "        print('attention')\n",
    "\n",
    "\n",
    "t = Teacher()\n",
    "print(t.name)\n",
    "#受保护的不能外部访问，为啥这里可以？\n",
    "print(t._petname)\n",
    "\n",
    "# 私有访问问题\n",
    "# 公开访问私有变量，报错！\n",
    "#print(t.__score)\n",
    "\n",
    "t.sleep()\n",
    "print(t.teacher_id)\n",
    "t.make_test()"
   ]
  },
  {
   "cell_type": "code",
   "execution_count": 18,
   "metadata": {},
   "outputs": [
    {
     "name": "stdout",
     "output_type": "stream",
     "text": [
      "DaNa\n"
     ]
    }
   ],
   "source": [
    "#子类和父类定义同一个名称变量，则优先使用子类本身\n",
    "class Person():\n",
    "    name = 'NoName'\n",
    "    age = 18\n",
    "    __score = 0 #考试成绩是秘密 私有的只能自己用\n",
    "    _petname = 'sec' #小名，是保护的，子类可以用，但不能共有\n",
    "    \n",
    "    def sleep(self):\n",
    "        print('sleep.........')\n",
    "    \n",
    "\n",
    "\n",
    "#父类写在括号里\n",
    "class Teacher(Person):\n",
    "    teacher_id = '9527'\n",
    "    name = 'DaNa'\n",
    "    def make_test(self):\n",
    "        print('attention')\n",
    "\n",
    "t = Teacher()\n",
    "print(t.name)"
   ]
  },
  {
   "cell_type": "code",
   "execution_count": 23,
   "metadata": {},
   "outputs": [
    {
     "name": "stdout",
     "output_type": "stream",
     "text": [
      "make some money\n",
      "attention\n"
     ]
    }
   ],
   "source": [
    "#子类扩充父类功能\n",
    "# 人有工作函数，老师也有工作函数，但是老师需要讲课\n",
    "class Person():\n",
    "    name = 'NoName'\n",
    "    age = 18\n",
    "    __score = 0 #考试成绩是秘密 私有的只能自己用\n",
    "    _petname = 'sec' #小名，是保护的，子类可以用，但不能共有\n",
    "    \n",
    "    def sleep(self):\n",
    "        print('sleep.........')\n",
    "    \n",
    "    def work(self):\n",
    "        print('make some money')\n",
    "\n",
    "#父类写在括号里\n",
    "class Teacher(Person):\n",
    "    teacher_id = '9527'\n",
    "    name = 'DaNa'\n",
    "    def make_test(self):\n",
    "        print('attention')\n",
    "    def work(self):\n",
    "        # 扩充父类的功能只需要调用父类相应的函数\n",
    "        #Person.work(self)\n",
    "        # 扩充父类的另一种方法\n",
    "        # super代表得到父类\n",
    "        super().work()\n",
    "        self.make_test()\n",
    "t = Teacher()\n",
    "t.work()"
   ]
  },
  {
   "cell_type": "code",
   "execution_count": 25,
   "metadata": {},
   "outputs": [
    {
     "name": "stdout",
     "output_type": "stream",
     "text": [
      "i am init in dog \n"
     ]
    }
   ],
   "source": [
    "# 构造函数的概念 -1\n",
    "class Dog():\n",
    "    #__init__就是构造函数\n",
    "    #每次实例化的时候，第一个被自动调用\n",
    "    #因为主要工作是进行初始化，所以得名\n",
    "    def __init__(self):\n",
    "        print('i am init in dog ')\n",
    "        \n",
    "# 实例化的时候，括号内的参数需要跟构造函数参数匹配        \n",
    "tuantuan = Dog()"
   ]
  },
  {
   "cell_type": "code",
   "execution_count": 30,
   "metadata": {},
   "outputs": [
    {
     "name": "stdout",
     "output_type": "stream",
     "text": [
      "i am init in dog \n",
      "paxing dongwu \n"
     ]
    }
   ],
   "source": [
    "# 继承中的构造函数 -2\n",
    "class Animel():\n",
    "    def __init__(self):\n",
    "        print('Animel')\n",
    "        \n",
    "class PaxingAni(Animel):\n",
    "    def __init__(self):\n",
    "        print('paxing dongwu ')\n",
    "\n",
    "class Dog(PaxingAni):\n",
    "    #__init__就是构造函数\n",
    "    #每次实例化的时候，第一个被自动调用\n",
    "    #因为主要工作是进行初始化，所以得名\n",
    "    def __init__(self):\n",
    "        print('i am init in dog ')\n",
    "# 实例化的时候，自动调用了Dog的构造函数\n",
    "# 因为找到了构造函数，则不在查找父类的构造函数\n",
    "kaka = Dog()\n",
    "\n",
    "# 猫没写构造函数\n",
    "class Cat(PaxingAni):\n",
    "    pass\n",
    "\n",
    "# 此时应该自动调用构造函数，因为Cat没有构造函数，所以查找父类的构造函数\n",
    "# 再PaxingAni中查找到了构造函数，则停止向上查找\n",
    "c = Cat()"
   ]
  },
  {
   "cell_type": "code",
   "execution_count": 34,
   "metadata": {},
   "outputs": [
    {
     "name": "stdout",
     "output_type": "stream",
     "text": [
      "i am init in dog \n"
     ]
    },
    {
     "ename": "TypeError",
     "evalue": "__init__() missing 1 required positional argument: 'name'",
     "output_type": "error",
     "traceback": [
      "\u001b[1;31m---------------------------------------------------------------------------\u001b[0m",
      "\u001b[1;31mTypeError\u001b[0m                                 Traceback (most recent call last)",
      "\u001b[1;32m<ipython-input-34-4a7b50547478>\u001b[0m in \u001b[0;36m<module>\u001b[1;34m\u001b[0m\n\u001b[0;32m     22\u001b[0m \u001b[1;31m# 此时，由于Cat没有构造函数，则向上查找\u001b[0m\u001b[1;33m\u001b[0m\u001b[1;33m\u001b[0m\u001b[1;33m\u001b[0m\u001b[0m\n\u001b[0;32m     23\u001b[0m \u001b[1;31m#\u001b[0m\u001b[1;33m\u001b[0m\u001b[1;33m\u001b[0m\u001b[1;33m\u001b[0m\u001b[0m\n\u001b[1;32m---> 24\u001b[1;33m \u001b[0mc\u001b[0m \u001b[1;33m=\u001b[0m \u001b[0mCat\u001b[0m\u001b[1;33m(\u001b[0m\u001b[1;33m)\u001b[0m\u001b[1;33m\u001b[0m\u001b[1;33m\u001b[0m\u001b[0m\n\u001b[0m",
      "\u001b[1;31mTypeError\u001b[0m: __init__() missing 1 required positional argument: 'name'"
     ]
    }
   ],
   "source": [
    "# 继承中的构造函数 -3\n",
    "class Animel():\n",
    "    def __init__(self):\n",
    "        print('Animel')\n",
    "        \n",
    "class PaxingAni(Animel):\n",
    "    \n",
    "    def __init__(self,name):\n",
    "        print('paxing dongwu {0}'.format(name))\n",
    "\n",
    "class Dog(PaxingAni):\n",
    "    #__init__就是构造函数\n",
    "    #每次实例化的时候，第一个被自动调用\n",
    "    #因为主要工作是进行初始化，所以得名\n",
    "    def __init__(self):\n",
    "        print('i am init in dog ')\n",
    "# 实例化Dog时，查找到了Dog的构造函数，参数匹配，不报错\n",
    "kaka = Dog()\n",
    "\n",
    "class Cat(PaxingAni):\n",
    "    pass\n",
    "# 此时，由于Cat没有构造函数，则向上查找\n",
    "#  因为PaxingAni的构造函数需要两个参数，这里只要一个所以报错\n",
    "c = Cat()"
   ]
  },
  {
   "cell_type": "code",
   "execution_count": 36,
   "metadata": {},
   "outputs": [
    {
     "name": "stdout",
     "output_type": "stream",
     "text": [
      "Animel\n",
      "Animel\n"
     ]
    }
   ],
   "source": [
    "# 继承中的构造函数 -4\n",
    "class Animel():\n",
    "    def __init__(self):\n",
    "        print('Animel')\n",
    "        \n",
    "class PaxingAni(Animel):\n",
    "    pass\n",
    "\n",
    "class Dog(PaxingAni):\n",
    "    pass\n",
    "# 实例化Dog时，查找到了Dog的构造函数，参数匹配，不报错\n",
    "kaka = Dog()\n",
    "\n",
    "class Cat(PaxingAni):\n",
    "    pass\n",
    "# 此时，由于Cat没有构造函数，则向上查找\n",
    "# \n",
    "c = Cat()"
   ]
  },
  {
   "cell_type": "code",
   "execution_count": 40,
   "metadata": {},
   "outputs": [
    {
     "name": "stdout",
     "output_type": "stream",
     "text": [
      "<class 'type'>\n",
      "Help on class super in module builtins:\n",
      "\n",
      "class super(object)\n",
      " |  super() -> same as super(__class__, <first argument>)\n",
      " |  super(type) -> unbound super object\n",
      " |  super(type, obj) -> bound super object; requires isinstance(obj, type)\n",
      " |  super(type, type2) -> bound super object; requires issubclass(type2, type)\n",
      " |  Typical use to call a cooperative superclass method:\n",
      " |  class C(B):\n",
      " |      def meth(self, arg):\n",
      " |          super().meth(arg)\n",
      " |  This works for class methods too:\n",
      " |  class C(B):\n",
      " |      @classmethod\n",
      " |      def cmeth(cls, arg):\n",
      " |          super().cmeth(arg)\n",
      " |  \n",
      " |  Methods defined here:\n",
      " |  \n",
      " |  __get__(self, instance, owner, /)\n",
      " |      Return an attribute of instance, which is of type owner.\n",
      " |  \n",
      " |  __getattribute__(self, name, /)\n",
      " |      Return getattr(self, name).\n",
      " |  \n",
      " |  __init__(self, /, *args, **kwargs)\n",
      " |      Initialize self.  See help(type(self)) for accurate signature.\n",
      " |  \n",
      " |  __repr__(self, /)\n",
      " |      Return repr(self).\n",
      " |  \n",
      " |  ----------------------------------------------------------------------\n",
      " |  Static methods defined here:\n",
      " |  \n",
      " |  __new__(*args, **kwargs) from builtins.type\n",
      " |      Create and return a new object.  See help(type) for accurate signature.\n",
      " |  \n",
      " |  ----------------------------------------------------------------------\n",
      " |  Data descriptors defined here:\n",
      " |  \n",
      " |  __self__\n",
      " |      the instance invoking super(); may be None\n",
      " |  \n",
      " |  __self_class__\n",
      " |      the type of the instance invoking super(); may be None\n",
      " |  \n",
      " |  __thisclass__\n",
      " |      the class invoking super()\n",
      "\n"
     ]
    }
   ],
   "source": [
    "print(type(super))\n",
    "help(super)"
   ]
  }
 ],
 "metadata": {
  "kernelspec": {
   "display_name": "Python 3",
   "language": "python",
   "name": "python3"
  },
  "language_info": {
   "codemirror_mode": {
    "name": "ipython",
    "version": 3
   },
   "file_extension": ".py",
   "mimetype": "text/x-python",
   "name": "python",
   "nbconvert_exporter": "python",
   "pygments_lexer": "ipython3",
   "version": "3.7.1"
  }
 },
 "nbformat": 4,
 "nbformat_minor": 2
}
