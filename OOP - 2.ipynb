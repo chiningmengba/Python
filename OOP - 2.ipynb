{
 "cells": [
  {
   "cell_type": "code",
   "execution_count": 15,
   "metadata": {},
   "outputs": [
    {
     "name": "stdout",
     "output_type": "stream",
     "text": [
      "working....\n",
      "i am flying....\n",
      "i am swimming....\n"
     ]
    }
   ],
   "source": [
    "# 多继承例子\n",
    "# 子类可以直接拥有父类的属性和方法，私有属性和方法除外\n",
    "class Fish():\n",
    "    def __init__(self,name):\n",
    "        self.name = name\n",
    "    def swim(self):\n",
    "        print('i am swimming....')\n",
    "        \n",
    "class Bird():\n",
    "    def __init__(self,name):\n",
    "        self.name = name   \n",
    "    def fly(self):\n",
    "        print('i am flying....')\n",
    "        \n",
    "class Person():\n",
    "    def __init__(self,name):\n",
    "        self.name = name\n",
    "    def work(self):\n",
    "        print('working....')\n",
    "\n",
    "# 单继承的例子\n",
    "class Student(Person):\n",
    "    def __init__(self,name):\n",
    "        self.name = name\n",
    "stu = Student('laowang')\n",
    "stu.work()        \n",
    "        \n",
    "        \n",
    "# 多继承的例子        \n",
    "class SuperMan(Person,Bird,Fish):\n",
    "    def __init__(self,name):\n",
    "        self.name = name\n",
    "\n",
    "class SwimMan(Person,Fish):\n",
    "    def __init__(self,name):\n",
    "        self.name = name\n",
    "        \n",
    "s = SuperMan('xiaoming')\n",
    "s.fly()\n",
    "s.swim()\n"
   ]
  },
  {
   "cell_type": "markdown",
   "metadata": {},
   "source": [
    "# 继承\n",
    "- 单继承和多继承\n",
    "    - 单继承：每个类只能继承一个类\n",
    "    - 多继承：每个类允许继承多个类\n",
    "- 单继承和多继承的优缺点\n",
    "    - 单继承：\n",
    "        - 传承有序逻辑清晰语法简单隐患少\n",
    "        - 功能不能无限扩展，只能在当前唯一的继承链中扩展\n",
    "    - 多继承：\n",
    "        - 优点：类的功能扩展方便\n",
    "        - 缺点：继承关系混乱\n",
    "- 菱形继承和钻石继承问题\n",
    "    - 多个子类继承自同一个父类，这些子类被同一个继承，于是继承关系图形成一个菱形图谱\n",
    "    - 关于多继承MRO\n",
    "        -MRO就是多继承中，用于保存继承顺序的一个列表\n",
    "        - python 本身采用C3算法来多继承的菱形进行计算的结果\n",
    "        - MRO列表的计算原则：\n",
    "            - 子类永远在父类的前面\n",
    "            - 如果多个父类，则根据继承语法中括号内部的书写顺序存放\n",
    "            - 如果多个类继承了同一个父类，则子类中只会选取继承语法括号中的第一个父类的父类\n",
    "    -构造函数\n",
    "        -在对对象实例化的时候，系统自动调用的一个函数叫构造函数，通常此函数用来对实例对象进行初始化，顾名"
   ]
  },
  {
   "cell_type": "code",
   "execution_count": 16,
   "metadata": {},
   "outputs": [],
   "source": [
    "# 菱形继承问题\n",
    "class A():\n",
    "    pass\n",
    "class B(A):\n",
    "    pass\n",
    "class C(A):\n",
    "    pass\n",
    "class D(B,C):\n",
    "    pass\n"
   ]
  },
  {
   "cell_type": "code",
   "execution_count": 19,
   "metadata": {},
   "outputs": [
    {
     "name": "stdout",
     "output_type": "stream",
     "text": [
      "in init func\n"
     ]
    }
   ],
   "source": [
    "# 构造函数例子\n",
    "class Person():\n",
    "    # 对person类进行实例化的时候\n",
    "    # 名字\n",
    "    # 年龄\n",
    "    # 地址\n",
    "    def __init__(self):\n",
    "        self.name = 'NoName'\n",
    "        self.age = 18\n",
    "        self.address = 'Studentwonhim'\n",
    "        print('in init func')\n",
    "# 实例化一个人\n",
    "p = Person()"
   ]
  },
  {
   "cell_type": "code",
   "execution_count": 21,
   "metadata": {},
   "outputs": [
    {
     "name": "stdout",
     "output_type": "stream",
     "text": [
      "B\n"
     ]
    }
   ],
   "source": [
    "# 构造函数的顺序 - 1\n",
    "# 如果子类没有写构造函数，则自动向上查找，直到找到\n",
    "class A():\n",
    "    def __init__(self):\n",
    "        print('A')\n",
    "class B(A):\n",
    "    def __init__(self):\n",
    "        print('B')\n",
    "class C(B):\n",
    "    pass\n",
    "\n",
    "# 此时，首先查找C的构造函数\n",
    "# 如果没有，则向上按照MRO顺序查找父类的构造函数，直到找到\n",
    "c = C()\n"
   ]
  },
  {
   "cell_type": "code",
   "execution_count": 24,
   "metadata": {},
   "outputs": [
    {
     "ename": "TypeError",
     "evalue": "__init__() missing 1 required positional argument: 'name'",
     "output_type": "error",
     "traceback": [
      "\u001b[1;31m---------------------------------------------------------------------------\u001b[0m",
      "\u001b[1;31mTypeError\u001b[0m                                 Traceback (most recent call last)",
      "\u001b[1;32m<ipython-input-24-fd716c26f21f>\u001b[0m in \u001b[0;36m<module>\u001b[1;34m\u001b[0m\n\u001b[0;32m     13\u001b[0m \u001b[1;31m# 如果没有，则向上按照MRO顺序查找父类的构造函数，直到找到\u001b[0m\u001b[1;33m\u001b[0m\u001b[1;33m\u001b[0m\u001b[1;33m\u001b[0m\u001b[0m\n\u001b[0;32m     14\u001b[0m \u001b[1;31m# 此时，会出现参数结构不对应的错误\u001b[0m\u001b[1;33m\u001b[0m\u001b[1;33m\u001b[0m\u001b[1;33m\u001b[0m\u001b[0m\n\u001b[1;32m---> 15\u001b[1;33m \u001b[0mc\u001b[0m \u001b[1;33m=\u001b[0m \u001b[0mC\u001b[0m\u001b[1;33m(\u001b[0m\u001b[1;33m)\u001b[0m\u001b[1;33m\u001b[0m\u001b[1;33m\u001b[0m\u001b[0m\n\u001b[0m",
      "\u001b[1;31mTypeError\u001b[0m: __init__() missing 1 required positional argument: 'name'"
     ]
    }
   ],
   "source": [
    "# 构造函数的顺序 - 2\n",
    "class A():\n",
    "    def __init__(self):\n",
    "        print('A')\n",
    "class B(A):\n",
    "    def __init__(self,name):\n",
    "        print('B')\n",
    "        print(name)\n",
    "class C(B):\n",
    "    pass\n",
    "\n",
    "# 此时，首先查找C的构造函数\n",
    "# 如果没有，则向上按照MRO顺序查找父类的构造函数，直到找到\n",
    "# 此时，会出现参数结构不对应的错误\n",
    "c = C()"
   ]
  },
  {
   "cell_type": "code",
   "execution_count": 31,
   "metadata": {},
   "outputs": [
    {
     "name": "stdout",
     "output_type": "stream",
     "text": [
      "B\n",
      "我是C\n",
      "这是C中附加的功能\n"
     ]
    }
   ],
   "source": [
    "# 构造函数的顺序 - 3\n",
    "class A():\n",
    "    def __init__(self):\n",
    "        print('A')\n",
    "class B(A):\n",
    "    def __init__(self,name):\n",
    "        print('B')\n",
    "        print(name)\n",
    "class C(B):\n",
    "    # C中想扩展B的构造函数\n",
    "    # 即调用B的构造函数后在添加一些功能\n",
    "    # 有两种方法实现\n",
    "    # 第一种是通过父类名调用\n",
    "    '''\n",
    "    def __init__(self,name):\n",
    "        #首先调用父类的构造函数\n",
    "        B.__init__(self,name)\n",
    "        #其次再增加自己的功能\n",
    "        print('这是C中附加的功能')\n",
    "    '''\n",
    "    \n",
    "    # 第二种，使用super调用\n",
    "    def __init__(self,name):\n",
    "        #首先调用父类的构造函数\n",
    "        super(C,self).__init__(name)\n",
    "        #其次再增加自己的功能\n",
    "        print('这是C中附加的功能')\n",
    "    \n",
    "\n",
    "# 此时，首先查找C的构造函数\n",
    "# 如果没有，则向上按照MRO顺序查找父类的构造函数，直到找到\n",
    "# 此时，会出现参数结构不对应的错误\n",
    "c = C('我是C')"
   ]
  },
  {
   "cell_type": "markdown",
   "metadata": {},
   "source": [
    "# 多态\n",
    "- 多态就是同一个对向在不同情况下有不同的状态出现\n",
    "- 多态不是语法，是一种设计思想\n",
    "- 多态性：一种调用方法，不同的执行效果\n",
    "- 多态：同一事物的多种形态，动物分为人类，哺乳类\n",
    "\n",
    "- Mixin的设计模式\n",
    "    - 主要采用多继承当时对类的功能进行扩展\n",
    "- 我们使用多继承语法来实现Mixin\n",
    "- 使用Mixin实现多继承的时候非常小心\n",
    "    - 首先他必须表示某一单一功能，而不是某个物品\n",
    "    - 职责必须单一，如果有多个功能，则写多个Mixin\n",
    "    - Mixin不能依赖于子类的实现\n",
    "    - 子类及时没有继承这个Mixin类，也能照常工作，只是缺少了某个功能\n",
    "- 优点：\n",
    "    - 使用Mixin可以在不对类进行任何修改的情况下，扩展功能\n",
    "    - 可以方便的组织和维护不同功能组件的划分\n",
    "    - 可以根据需要任意调整功能类的组合\n",
    "    - 可以避免创建很多新的类，导致类的继承混乱"
   ]
  },
  {
   "cell_type": "code",
   "execution_count": 35,
   "metadata": {},
   "outputs": [
    {
     "name": "stdout",
     "output_type": "stream",
     "text": [
      "True\n",
      "False\n",
      "True\n"
     ]
    }
   ],
   "source": [
    "# issubclass\n",
    "class A():\n",
    "    pass\n",
    "class B(A):\n",
    "    pass\n",
    "class C():\n",
    "    pass\n",
    "\n",
    "print( issubclass(B,A))\n",
    "print( issubclass(C,A))\n",
    "print( issubclass(C,object))"
   ]
  },
  {
   "cell_type": "markdown",
   "metadata": {},
   "source": [
    "# 类相关函数\n",
    "- issubclass：检测一个类是否是另一个类的子类\n",
    "- isinstance：检测一个对象是否是一个类的实例\n",
    "- hasattr:检测一个对象是否有成员\n",
    "- getattr:\n",
    "- setattr:"
   ]
  },
  {
   "cell_type": "code",
   "execution_count": 38,
   "metadata": {},
   "outputs": [
    {
     "name": "stdout",
     "output_type": "stream",
     "text": [
      "True\n",
      "False\n"
     ]
    }
   ],
   "source": [
    "# isinstance\n",
    "class A():\n",
    "    pass\n",
    "a = A()\n",
    "print(isinstance(a,A))\n",
    "print(isinstance(A,A))"
   ]
  },
  {
   "cell_type": "code",
   "execution_count": 41,
   "metadata": {},
   "outputs": [
    {
     "name": "stdout",
     "output_type": "stream",
     "text": [
      "True\n",
      "False\n"
     ]
    }
   ],
   "source": [
    "# hasattr\n",
    "class A():\n",
    "    name = 'NoName'\n",
    "    \n",
    "a = A()    \n",
    "print(hasattr(a,'name'))\n",
    "print(hasattr(a,'age'))\n"
   ]
  },
  {
   "cell_type": "code",
   "execution_count": 42,
   "metadata": {},
   "outputs": [
    {
     "data": {
      "text/plain": [
       "['__class__',\n",
       " '__delattr__',\n",
       " '__dict__',\n",
       " '__dir__',\n",
       " '__doc__',\n",
       " '__eq__',\n",
       " '__format__',\n",
       " '__ge__',\n",
       " '__getattribute__',\n",
       " '__gt__',\n",
       " '__hash__',\n",
       " '__init__',\n",
       " '__init_subclass__',\n",
       " '__le__',\n",
       " '__lt__',\n",
       " '__module__',\n",
       " '__ne__',\n",
       " '__new__',\n",
       " '__reduce__',\n",
       " '__reduce_ex__',\n",
       " '__repr__',\n",
       " '__setattr__',\n",
       " '__sizeof__',\n",
       " '__str__',\n",
       " '__subclasshook__',\n",
       " '__weakref__']"
      ]
     },
     "execution_count": 42,
     "metadata": {},
     "output_type": "execute_result"
    }
   ],
   "source": [
    "# dir 案例\n",
    "class A():\n",
    "    pass\n",
    "dir(A)"
   ]
  }
 ],
 "metadata": {
  "kernelspec": {
   "display_name": "Python 3",
   "language": "python",
   "name": "python3"
  },
  "language_info": {
   "codemirror_mode": {
    "name": "ipython",
    "version": 3
   },
   "file_extension": ".py",
   "mimetype": "text/x-python",
   "name": "python",
   "nbconvert_exporter": "python",
   "pygments_lexer": "ipython3",
   "version": "3.7.1"
  }
 },
 "nbformat": 4,
 "nbformat_minor": 2
}
